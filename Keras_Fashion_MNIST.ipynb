{
  "nbformat": 4,
  "nbformat_minor": 0,
  "metadata": {
    "colab": {
      "name": "Keras Fashion MNIST",
      "version": "0.3.2",
      "provenance": [],
      "collapsed_sections": [],
      "toc_visible": true,
      "include_colab_link": true
    },
    "kernelspec": {
      "name": "python3",
      "display_name": "Python 3"
    },
    "accelerator": "GPU"
  },
  "cells": [
    {
      "cell_type": "markdown",
      "metadata": {
        "id": "view-in-github",
        "colab_type": "text"
      },
      "source": [
        "[![Open In Colab](https://colab.research.google.com/assets/colab-badge.svg)](https://colab.research.google.com/github/charliezou/colabsample/blob/master/Keras_Fashion_MNIST.ipynb)"
      ]
    },
    {
      "metadata": {
        "colab_type": "text",
        "id": "Ot79jiI7GiHR"
      },
      "cell_type": "markdown",
      "source": [
        "# Fashion MNIST with Keras and TPUs\n",
        "\n",
        "Let's try out using `tf.keras` and Cloud TPUs to train a model on the fashion MNIST dataset.\n",
        "\n",
        "First, let's grab our dataset using `tf.keras.datasets`."
      ]
    },
    {
      "metadata": {
        "colab_type": "code",
        "id": "Zo-Yk6LFGfSf",
        "outputId": "30322acf-527c-4439-be88-b5893a956b45",
        "colab": {
          "base_uri": "https://localhost:8080/",
          "height": 161
        }
      },
      "cell_type": "code",
      "source": [
        "import tensorflow as tf\n",
        "import numpy as np\n",
        "\n",
        "(x_train, y_train), (x_test, y_test) = tf.keras.datasets.fashion_mnist.load_data()\n",
        "\n",
        "# add empty color dimension\n",
        "x_train = np.expand_dims(x_train, -1)\n",
        "x_test = np.expand_dims(x_test, -1)"
      ],
      "execution_count": 2,
      "outputs": [
        {
          "output_type": "stream",
          "text": [
            "Downloading data from https://storage.googleapis.com/tensorflow/tf-keras-datasets/train-labels-idx1-ubyte.gz\n",
            "32768/29515 [=================================] - 0s 0us/step\n",
            "Downloading data from https://storage.googleapis.com/tensorflow/tf-keras-datasets/train-images-idx3-ubyte.gz\n",
            "26427392/26421880 [==============================] - 0s 0us/step\n",
            "Downloading data from https://storage.googleapis.com/tensorflow/tf-keras-datasets/t10k-labels-idx1-ubyte.gz\n",
            "8192/5148 [===============================================] - 0s 0us/step\n",
            "Downloading data from https://storage.googleapis.com/tensorflow/tf-keras-datasets/t10k-images-idx3-ubyte.gz\n",
            "4423680/4422102 [==============================] - 0s 0us/step\n"
          ],
          "name": "stdout"
        }
      ]
    },
    {
      "metadata": {
        "id": "D2Ws41gOL07P",
        "colab_type": "code",
        "colab": {
          "base_uri": "https://localhost:8080/",
          "height": 161
        },
        "outputId": "ee1a09c0-02da-4a98-d047-e5e16f1e4ffa"
      },
      "cell_type": "code",
      "source": [
        "print(x_train.shape)\n",
        "print(y_train.shape)\n",
        "print(x_test.shape)\n",
        "y_train[:100]"
      ],
      "execution_count": 11,
      "outputs": [
        {
          "output_type": "stream",
          "text": [
            "(60000, 28, 28, 1)\n",
            "(60000,)\n",
            "(10000, 28, 28, 1)\n"
          ],
          "name": "stdout"
        },
        {
          "output_type": "execute_result",
          "data": {
            "text/plain": [
              "array([9, 0, 0, 3, 0, 2, 7, 2, 5, 5, 0, 9, 5, 5, 7, 9, 1, 0, 6, 4, 3, 1,\n",
              "       4, 8, 4, 3, 0, 2, 4, 4, 5, 3, 6, 6, 0, 8, 5, 2, 1, 6, 6, 7, 9, 5,\n",
              "       9, 2, 7, 3, 0, 3, 3, 3, 7, 2, 2, 6, 6, 8, 3, 3, 5, 0, 5, 5, 0, 2,\n",
              "       0, 0, 4, 1, 3, 1, 6, 3, 1, 4, 4, 6, 1, 9, 1, 3, 5, 7, 9, 7, 1, 7,\n",
              "       9, 9, 9, 3, 2, 9, 3, 6, 4, 1, 1, 8], dtype=uint8)"
            ]
          },
          "metadata": {
            "tags": []
          },
          "execution_count": 11
        }
      ]
    },
    {
      "metadata": {
        "colab_type": "text",
        "id": "Hgc2FZKVMx15"
      },
      "cell_type": "markdown",
      "source": [
        "# Defining our model\n",
        "\n",
        "We will use a standard conv-net for this example.  We have 3 layers with drop-out and batch normalization between each layer."
      ]
    },
    {
      "metadata": {
        "colab_type": "code",
        "id": "W7gMbs70GxA7",
        "outputId": "b49e5abe-bc47-452c-9332-485a5a8f1a26",
        "colab": {
          "base_uri": "https://localhost:8080/",
          "height": 791
        }
      },
      "cell_type": "code",
      "source": [
        "model = tf.keras.models.Sequential()\n",
        "model.add(tf.keras.layers.BatchNormalization(input_shape=x_train.shape[1:]))\n",
        "model.add(tf.keras.layers.Conv2D(64, (5, 5), padding='same', activation='elu'))\n",
        "model.add(tf.keras.layers.MaxPooling2D(pool_size=(2, 2), strides=(2,2)))\n",
        "model.add(tf.keras.layers.Dropout(0.25))\n",
        "\n",
        "model.add(tf.keras.layers.BatchNormalization(input_shape=x_train.shape[1:]))\n",
        "model.add(tf.keras.layers.Conv2D(128, (5, 5), padding='same', activation='elu'))\n",
        "model.add(tf.keras.layers.MaxPooling2D(pool_size=(2, 2)))\n",
        "model.add(tf.keras.layers.Dropout(0.25))\n",
        "\n",
        "model.add(tf.keras.layers.BatchNormalization(input_shape=x_train.shape[1:]))\n",
        "model.add(tf.keras.layers.Conv2D(256, (5, 5), padding='same', activation='elu'))\n",
        "model.add(tf.keras.layers.MaxPooling2D(pool_size=(2, 2), strides=(2,2)))\n",
        "model.add(tf.keras.layers.Dropout(0.25))\n",
        "\n",
        "model.add(tf.keras.layers.Flatten())\n",
        "model.add(tf.keras.layers.Dense(256))\n",
        "model.add(tf.keras.layers.Activation('elu'))\n",
        "model.add(tf.keras.layers.Dropout(0.5))\n",
        "model.add(tf.keras.layers.Dense(10))\n",
        "model.add(tf.keras.layers.Activation('softmax'))\n",
        "model.summary()"
      ],
      "execution_count": 3,
      "outputs": [
        {
          "output_type": "stream",
          "text": [
            "_________________________________________________________________\n",
            "Layer (type)                 Output Shape              Param #   \n",
            "=================================================================\n",
            "batch_normalization (BatchNo (None, 28, 28, 1)         4         \n",
            "_________________________________________________________________\n",
            "conv2d (Conv2D)              (None, 28, 28, 64)        1664      \n",
            "_________________________________________________________________\n",
            "max_pooling2d (MaxPooling2D) (None, 14, 14, 64)        0         \n",
            "_________________________________________________________________\n",
            "dropout (Dropout)            (None, 14, 14, 64)        0         \n",
            "_________________________________________________________________\n",
            "batch_normalization_1 (Batch (None, 14, 14, 64)        256       \n",
            "_________________________________________________________________\n",
            "conv2d_1 (Conv2D)            (None, 14, 14, 128)       204928    \n",
            "_________________________________________________________________\n",
            "max_pooling2d_1 (MaxPooling2 (None, 7, 7, 128)         0         \n",
            "_________________________________________________________________\n",
            "dropout_1 (Dropout)          (None, 7, 7, 128)         0         \n",
            "_________________________________________________________________\n",
            "batch_normalization_2 (Batch (None, 7, 7, 128)         512       \n",
            "_________________________________________________________________\n",
            "conv2d_2 (Conv2D)            (None, 7, 7, 256)         819456    \n",
            "_________________________________________________________________\n",
            "max_pooling2d_2 (MaxPooling2 (None, 3, 3, 256)         0         \n",
            "_________________________________________________________________\n",
            "dropout_2 (Dropout)          (None, 3, 3, 256)         0         \n",
            "_________________________________________________________________\n",
            "flatten (Flatten)            (None, 2304)              0         \n",
            "_________________________________________________________________\n",
            "dense (Dense)                (None, 256)               590080    \n",
            "_________________________________________________________________\n",
            "activation (Activation)      (None, 256)               0         \n",
            "_________________________________________________________________\n",
            "dropout_3 (Dropout)          (None, 256)               0         \n",
            "_________________________________________________________________\n",
            "dense_1 (Dense)              (None, 10)                2570      \n",
            "_________________________________________________________________\n",
            "activation_1 (Activation)    (None, 10)                0         \n",
            "=================================================================\n",
            "Total params: 1,619,470\n",
            "Trainable params: 1,619,084\n",
            "Non-trainable params: 386\n",
            "_________________________________________________________________\n"
          ],
          "name": "stdout"
        }
      ]
    },
    {
      "metadata": {
        "id": "83UCw1yuOFQp",
        "colab_type": "text"
      },
      "cell_type": "markdown",
      "source": [
        "#Train on The GPU"
      ]
    },
    {
      "metadata": {
        "id": "YisK8FhiOQQq",
        "colab_type": "code",
        "colab": {
          "base_uri": "https://localhost:8080/",
          "height": 1003
        },
        "outputId": "dfb4bdd1-0edc-4066-d00b-9bb2b77bba49"
      },
      "cell_type": "code",
      "source": [
        "model.compile(\n",
        "    optimizer=tf.train.AdamOptimizer(learning_rate=1e-3, ),\n",
        "    loss=tf.keras.losses.sparse_categorical_crossentropy,\n",
        "    metrics=['sparse_categorical_accuracy']\n",
        ")\n",
        "\n",
        "def train_gen(batch_size):\n",
        "  while True:\n",
        "    offset = np.random.randint(0, x_train.shape[0] - batch_size)\n",
        "    yield x_train[offset:offset+batch_size], y_train[offset:offset + batch_size]\n",
        "    \n",
        "\n",
        "model.fit_generator(\n",
        "    train_gen(1024),\n",
        "    epochs=10,\n",
        "    steps_per_epoch=100,\n",
        "    validation_data=(x_test, y_test),\n",
        ")"
      ],
      "execution_count": 4,
      "outputs": [
        {
          "output_type": "stream",
          "text": [
            "Epoch 1/10\n",
            "100/100 [==============================] - 29s 291ms/step - loss: 0.9439 - sparse_categorical_accuracy: 0.7270 - val_loss: 1.2567 - val_sparse_categorical_accuracy: 0.5555\n",
            "Epoch 2/10\n",
            "100/100 [==============================] - 24s 239ms/step - loss: 0.4473 - sparse_categorical_accuracy: 0.8476 - val_loss: 0.6234 - val_sparse_categorical_accuracy: 0.7791\n",
            "Epoch 3/10\n",
            "100/100 [==============================] - 24s 239ms/step - loss: 0.3530 - sparse_categorical_accuracy: 0.8757 - val_loss: 0.4826 - val_sparse_categorical_accuracy: 0.8253\n",
            "Epoch 4/10\n",
            "100/100 [==============================] - 24s 239ms/step - loss: 0.3090 - sparse_categorical_accuracy: 0.8895 - val_loss: 0.3866 - val_sparse_categorical_accuracy: 0.8524\n",
            "Epoch 5/10\n",
            "100/100 [==============================] - 24s 239ms/step - loss: 0.2667 - sparse_categorical_accuracy: 0.9036 - val_loss: 0.3249 - val_sparse_categorical_accuracy: 0.8788\n",
            "Epoch 6/10\n",
            "100/100 [==============================] - 24s 239ms/step - loss: 0.2365 - sparse_categorical_accuracy: 0.9140 - val_loss: 0.2766 - val_sparse_categorical_accuracy: 0.9013\n",
            "Epoch 7/10\n",
            "100/100 [==============================] - 24s 239ms/step - loss: 0.2110 - sparse_categorical_accuracy: 0.9226 - val_loss: 0.2726 - val_sparse_categorical_accuracy: 0.9013\n",
            "Epoch 8/10\n",
            "100/100 [==============================] - 24s 239ms/step - loss: 0.1942 - sparse_categorical_accuracy: 0.9282 - val_loss: 0.2322 - val_sparse_categorical_accuracy: 0.9192\n",
            "Epoch 9/10\n",
            "100/100 [==============================] - 24s 239ms/step - loss: 0.1741 - sparse_categorical_accuracy: 0.9356 - val_loss: 0.2272 - val_sparse_categorical_accuracy: 0.9231\n",
            "Epoch 10/10\n",
            "100/100 [==============================] - 24s 238ms/step - loss: 0.1587 - sparse_categorical_accuracy: 0.9417 - val_loss: 0.2277 - val_sparse_categorical_accuracy: 0.9230\n"
          ],
          "name": "stdout"
        },
        {
          "output_type": "execute_result",
          "data": {
            "text/plain": [
              "<tensorflow.python.keras.callbacks.History at 0x7f3d56394ef0>"
            ]
          },
          "metadata": {
            "tags": []
          },
          "execution_count": 4
        }
      ]
    },
    {
      "metadata": {
        "colab_type": "text",
        "id": "xLeZATVaNAnE"
      },
      "cell_type": "markdown",
      "source": [
        "# Training on the TPU\n",
        "\n",
        "We're ready to train!   We first construct our model on the TPU, and compile it.\n",
        "\n",
        "Here we demonstrate that we can use a generator function and `fit_generator` to train the model.  You can also pass in `x_train` and `y_train` to `tpu_model.fit()` instead."
      ]
    },
    {
      "metadata": {
        "colab_type": "code",
        "id": "pWEYmd_hIWg8",
        "outputId": "2fa5f29f-863a-4244-b801-9a58ad1129f4",
        "colab": {
          "base_uri": "https://localhost:8080/",
          "height": 1045
        }
      },
      "cell_type": "code",
      "source": [
        "import os\n",
        "tpu_model = tf.contrib.tpu.keras_to_tpu_model(\n",
        "    model,\n",
        "    strategy=tf.contrib.tpu.TPUDistributionStrategy(\n",
        "        tf.contrib.cluster_resolver.TPUClusterResolver(tpu='grpc://' + os.environ['COLAB_TPU_ADDR'])\n",
        "    )\n",
        ")\n",
        "tpu_model.compile(\n",
        "    optimizer=tf.train.AdamOptimizer(learning_rate=1e-3, ),\n",
        "    loss=tf.keras.losses.sparse_categorical_crossentropy,\n",
        "    metrics=['sparse_categorical_accuracy']\n",
        ")\n",
        "\n",
        "def train_gen(batch_size):\n",
        "  while True:\n",
        "    offset = np.random.randint(0, x_train.shape[0] - batch_size)\n",
        "    yield x_train[offset:offset+batch_size], y_train[offset:offset + batch_size]\n",
        "    \n",
        "\n",
        "tpu_model.fit_generator(\n",
        "    train_gen(1024),\n",
        "    epochs=10,\n",
        "    steps_per_epoch=100,\n",
        "    validation_data=(x_test, y_test),\n",
        ")"
      ],
      "execution_count": 3,
      "outputs": [
        {
          "output_type": "stream",
          "text": [
            "INFO:tensorflow:Querying Tensorflow master (b'grpc://10.86.158.50:8470') for TPU system metadata.\n",
            "INFO:tensorflow:Found TPU system:\n",
            "INFO:tensorflow:*** Num TPU Cores: 8\n",
            "INFO:tensorflow:*** Num TPU Workers: 1\n",
            "INFO:tensorflow:*** Num TPU Cores Per Worker: 8\n",
            "INFO:tensorflow:*** Available Device: _DeviceAttributes(/job:worker/replica:0/task:0/device:CPU:0, CPU, -1, 8360928504832145706)\n",
            "INFO:tensorflow:*** Available Device: _DeviceAttributes(/job:worker/replica:0/task:0/device:XLA_CPU:0, XLA_CPU, 17179869184, 16035451499117739409)\n",
            "INFO:tensorflow:*** Available Device: _DeviceAttributes(/job:worker/replica:0/task:0/device:XLA_GPU:0, XLA_GPU, 17179869184, 3980307756615753285)\n",
            "INFO:tensorflow:*** Available Device: _DeviceAttributes(/job:worker/replica:0/task:0/device:TPU:0, TPU, 17179869184, 2642881301090938258)\n",
            "INFO:tensorflow:*** Available Device: _DeviceAttributes(/job:worker/replica:0/task:0/device:TPU:1, TPU, 17179869184, 17608394378052549432)\n",
            "INFO:tensorflow:*** Available Device: _DeviceAttributes(/job:worker/replica:0/task:0/device:TPU:2, TPU, 17179869184, 5550993881759653135)\n",
            "INFO:tensorflow:*** Available Device: _DeviceAttributes(/job:worker/replica:0/task:0/device:TPU:3, TPU, 17179869184, 11907362886454789037)\n",
            "INFO:tensorflow:*** Available Device: _DeviceAttributes(/job:worker/replica:0/task:0/device:TPU:4, TPU, 17179869184, 11222700355345216126)\n",
            "INFO:tensorflow:*** Available Device: _DeviceAttributes(/job:worker/replica:0/task:0/device:TPU:5, TPU, 17179869184, 9441207933579407496)\n",
            "INFO:tensorflow:*** Available Device: _DeviceAttributes(/job:worker/replica:0/task:0/device:TPU:6, TPU, 17179869184, 1099003366452676806)\n",
            "INFO:tensorflow:*** Available Device: _DeviceAttributes(/job:worker/replica:0/task:0/device:TPU:7, TPU, 17179869184, 11470343047590889324)\n",
            "INFO:tensorflow:*** Available Device: _DeviceAttributes(/job:worker/replica:0/task:0/device:TPU_SYSTEM:0, TPU_SYSTEM, 17179869184, 6989114984491071287)\n",
            "WARNING:tensorflow:tpu_model (from tensorflow.contrib.tpu.python.tpu.keras_support) is experimental and may change or be removed at any time, and without warning.\n",
            "INFO:tensorflow:Connecting to: b'grpc://10.86.158.50:8470'\n",
            "Epoch 1/10\n",
            "INFO:tensorflow:New input shapes; (re-)compiling: mode=train, [TensorSpec(shape=(128, 28, 28, 1), dtype=tf.float32, name='batch_normalization_input0'), TensorSpec(shape=(128, 1), dtype=tf.float32, name='activation_1_target0')]\n",
            "INFO:tensorflow:Overriding default placeholder.\n",
            "INFO:tensorflow:Remapping placeholder for batch_normalization_input\n",
            "INFO:tensorflow:Started compiling\n",
            "INFO:tensorflow:Finished compiling. Time elapsed: 3.0074172019958496 secs\n",
            "INFO:tensorflow:Setting weights on TPU model.\n",
            " 99/100 [============================>.] - ETA: 0s - loss: 0.9222 - sparse_categorical_accuracy: 0.7350INFO:tensorflow:New input shapes; (re-)compiling: mode=eval, [TensorSpec(shape=(128, 28, 28, 1), dtype=tf.float32, name='batch_normalization_input0'), TensorSpec(shape=(128, 1), dtype=tf.float32, name='activation_1_target0')]\n",
            "INFO:tensorflow:Overriding default placeholder.\n",
            "INFO:tensorflow:Remapping placeholder for batch_normalization_input\n",
            "INFO:tensorflow:Started compiling\n",
            "INFO:tensorflow:Finished compiling. Time elapsed: 1.5973191261291504 secs\n",
            "INFO:tensorflow:New input shapes; (re-)compiling: mode=eval, [TensorSpec(shape=(98, 28, 28, 1), dtype=tf.float32, name='batch_normalization_input0'), TensorSpec(shape=(98, 1), dtype=tf.float32, name='activation_1_target0')]\n",
            "INFO:tensorflow:Overriding default placeholder.\n",
            "INFO:tensorflow:Remapping placeholder for batch_normalization_input\n",
            "INFO:tensorflow:Started compiling\n",
            "INFO:tensorflow:Finished compiling. Time elapsed: 1.5064990520477295 secs\n",
            "100/100 [==============================] - 17s 173ms/step - loss: 0.9179 - sparse_categorical_accuracy: 0.7362 - val_loss: 1.0552 - val_sparse_categorical_accuracy: 0.6224\n",
            "Epoch 2/10\n",
            "100/100 [==============================] - 8s 81ms/step - loss: 0.4352 - sparse_categorical_accuracy: 0.8496 - val_loss: 1.0739 - val_sparse_categorical_accuracy: 0.6440\n",
            "Epoch 3/10\n",
            "100/100 [==============================] - 8s 80ms/step - loss: 0.3489 - sparse_categorical_accuracy: 0.8767 - val_loss: 0.5990 - val_sparse_categorical_accuracy: 0.7864\n",
            "Epoch 4/10\n",
            "100/100 [==============================] - 8s 79ms/step - loss: 0.2870 - sparse_categorical_accuracy: 0.8962 - val_loss: 0.3815 - val_sparse_categorical_accuracy: 0.8568\n",
            "Epoch 5/10\n",
            "100/100 [==============================] - 8s 81ms/step - loss: 0.2524 - sparse_categorical_accuracy: 0.9068 - val_loss: 0.2800 - val_sparse_categorical_accuracy: 0.8896\n",
            "Epoch 6/10\n",
            "100/100 [==============================] - 8s 80ms/step - loss: 0.2416 - sparse_categorical_accuracy: 0.9111 - val_loss: 0.2693 - val_sparse_categorical_accuracy: 0.8968\n",
            "Epoch 7/10\n",
            "100/100 [==============================] - 8s 80ms/step - loss: 0.2063 - sparse_categorical_accuracy: 0.9262 - val_loss: 0.2408 - val_sparse_categorical_accuracy: 0.9096\n",
            "Epoch 8/10\n",
            "100/100 [==============================] - 8s 80ms/step - loss: 0.1838 - sparse_categorical_accuracy: 0.9323 - val_loss: 0.2277 - val_sparse_categorical_accuracy: 0.9184\n",
            "Epoch 9/10\n",
            "100/100 [==============================] - 8s 82ms/step - loss: 0.1727 - sparse_categorical_accuracy: 0.9363 - val_loss: 0.2349 - val_sparse_categorical_accuracy: 0.9128\n",
            "Epoch 10/10\n",
            "100/100 [==============================] - 8s 81ms/step - loss: 0.1585 - sparse_categorical_accuracy: 0.9410 - val_loss: 0.2301 - val_sparse_categorical_accuracy: 0.9272\n"
          ],
          "name": "stdout"
        },
        {
          "output_type": "execute_result",
          "data": {
            "text/plain": [
              "<tensorflow.python.keras.callbacks.History at 0x7f26819a9fd0>"
            ]
          },
          "metadata": {
            "tags": []
          },
          "execution_count": 3
        }
      ]
    },
    {
      "metadata": {
        "colab_type": "text",
        "id": "ESL6ltQTMm05"
      },
      "cell_type": "markdown",
      "source": [
        "# Checking our results (inference)\n",
        "\n",
        "Now that we're done training, let's see how well we can predict fashion categories!  Keras/TPU prediction isn't working due to a small bug (fixed in TF 1.12!), but we can predict on the CPU to see how our results look."
      ]
    },
    {
      "metadata": {
        "colab_type": "code",
        "id": "SaYPv_aKId2d",
        "outputId": "bc85bf73-55e0-4592-dcde-4dfa5194fdea",
        "colab": {
          "base_uri": "https://localhost:8080/",
          "height": 525
        }
      },
      "cell_type": "code",
      "source": [
        "LABEL_NAMES = ['t_shirt', 'trouser', 'pullover', 'dress', 'coat', 'sandal', 'shirt', 'sneaker', 'bag', 'ankle_boots']\n",
        "\n",
        "\n",
        "cpu_model = tpu_model.sync_to_cpu()\n",
        "\n",
        "from matplotlib import pyplot\n",
        "%matplotlib inline\n",
        "\n",
        "def plot_predictions(images, predictions):\n",
        "  n = images.shape[0]\n",
        "  nc = int(np.ceil(n / 4))\n",
        "  f, axes = pyplot.subplots(nc, 4)\n",
        "  for i in range(nc * 4):\n",
        "    y = i // 4\n",
        "    x = i % 4\n",
        "    axes[x, y].axis('off')\n",
        "    \n",
        "    label = LABEL_NAMES[np.argmax(predictions[i])]\n",
        "    confidence = np.max(predictions[i])\n",
        "    if i > n:\n",
        "      continue\n",
        "    axes[x, y].imshow(images[i])\n",
        "    axes[x, y].text(0.5, 0.5, label + '\\n%.3f' % confidence, fontsize=14)\n",
        "\n",
        "  pyplot.gcf().set_size_inches(8, 8)  \n",
        "\n",
        "plot_predictions(np.squeeze(x_test[:16]), \n",
        "                 cpu_model.predict(x_test[:16]))"
      ],
      "execution_count": 12,
      "outputs": [
        {
          "output_type": "stream",
          "text": [
            "INFO:tensorflow:Copying TPU weights to the CPU\n"
          ],
          "name": "stdout"
        },
        {
          "output_type": "display_data",
          "data": {
            "image/png": "[encoded data removed]",
            "text/plain": [
              "<matplotlib.figure.Figure at 0x7f267aa7e240>"
            ]
          },
          "metadata": {
            "tags": []
          }
        }
      ]
    },
    {
      "metadata": {
        "colab_type": "text",
        "id": "GJAaFlQYNhoW"
      },
      "cell_type": "markdown",
      "source": [
        "# Not bad!"
      ]
    },
    {
      "metadata": {
        "id": "wEBX8bjsS2sq",
        "colab_type": "code",
        "colab": {}
      },
      "cell_type": "code",
      "source": [
        "with open('example2.txt', 'w') as f:\n",
        "  f.write('some content')"
      ],
      "execution_count": 0,
      "outputs": []
    }
  ]
}